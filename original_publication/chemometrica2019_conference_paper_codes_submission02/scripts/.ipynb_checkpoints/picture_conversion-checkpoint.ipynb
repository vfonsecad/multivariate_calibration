{
 "cells": [
  {
   "cell_type": "code",
   "execution_count": 1,
   "metadata": {},
   "outputs": [
    {
     "name": "stdout",
     "output_type": "stream",
     "text": [
      "finished\n"
     ]
    }
   ],
   "source": [
    "# --------------------------------------------------------------------------\n",
    "\n",
    "# ----------------- picture conversion for chemometrica 2019 journal paper\n",
    "\n",
    "# -------------------------------------------------------------------------\n",
    "\n",
    "\n",
    "# ¡¡¡ --- !!! # ---> modules \n",
    "\n",
    "from PIL import Image\n",
    "import os\n",
    "\n",
    "# ¡¡¡ --- !!! # ---> base directory \n",
    "\n",
    "base_dir = \"/home/valeria/vfonsecad/kul_phd/conferences/chemometrica-2019/paper/chemometrica2019_conference_paper_codes_submission02\"\n",
    "\n",
    "\n",
    "# ¡¡¡ --- !!! # ---> read images\n",
    "\n",
    "\n",
    "figures_folder = list()\n",
    "for root, dirs, files in os.walk(base_dir + \"/output/figures\"):\n",
    "    current_list = [root, dirs, files]\n",
    "    figures_folder.append(current_list)\n",
    "\n",
    "non_png_figures = [figure for figure in figures_folder[0][2] if figure.find('.png')<0]\n",
    "\n",
    "assert len(non_png_figures) == 0 and len(figures_folder[0][1]) == 0, \"there are subfolders or figures in a format different from .png\"\n",
    "\n",
    "\n",
    "output_figures_folder = base_dir + \"/output/figures_converted\"\n",
    "\n",
    "for figure_i in figures_folder[0][2]:\n",
    "\n",
    "    current_figure_name = figure_i.split(\".\")[0]\n",
    "    im = Image.open(figures_folder[0][0] + \"/\" + current_figure_name + \".png\")\n",
    "    #im = im.convert('RGB')\n",
    "    im.save(output_figures_folder + \"/\" + current_figure_name + \".tif\")\n",
    "print(\"finished\")"
   ]
  },
  {
   "cell_type": "code",
   "execution_count": null,
   "metadata": {},
   "outputs": [],
   "source": []
  },
  {
   "cell_type": "code",
   "execution_count": null,
   "metadata": {},
   "outputs": [],
   "source": []
  },
  {
   "cell_type": "code",
   "execution_count": null,
   "metadata": {},
   "outputs": [],
   "source": []
  },
  {
   "cell_type": "code",
   "execution_count": null,
   "metadata": {},
   "outputs": [],
   "source": []
  }
 ],
 "metadata": {
  "kernelspec": {
   "display_name": "Python 3",
   "language": "python",
   "name": "python3"
  },
  "language_info": {
   "codemirror_mode": {
    "name": "ipython",
    "version": 3
   },
   "file_extension": ".py",
   "mimetype": "text/x-python",
   "name": "python",
   "nbconvert_exporter": "python",
   "pygments_lexer": "ipython3",
   "version": "3.7.3"
  }
 },
 "nbformat": 4,
 "nbformat_minor": 4
}
