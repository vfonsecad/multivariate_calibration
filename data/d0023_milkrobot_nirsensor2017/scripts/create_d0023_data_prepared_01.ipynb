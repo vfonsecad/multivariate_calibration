{
 "cells": [
  {
   "cell_type": "code",
   "execution_count": 1,
   "metadata": {},
   "outputs": [
    {
     "data": {
      "text/plain": [
       "dict_keys(['__header__', '__version__', '__globals__', 'SET', 'Time_Sample_Tot', 'Time_White_Tot', 'Time_Dark_Tot', 'Refl_Sample_Tot', 'Trans_Sample_Tot', 'Refl_White_Tot', 'Trans_White_Tot', 'Refl_Dark_Tot', 'Trans_Dark_Tot', 'Refl_Tot', 'Trans_Tot', 'Time_Milk_Tot', 'Cow_ID_Tot', 'Milk_yield_Tot', 'Time_PrevMilk_Tot', 'Milk_Interv_Tot', 'Fat_Tot', 'Prot_Tot', 'Lact_Tot', 'Urea_Tot', 'SCC_Tot', 'pathFolder'])"
      ]
     },
     "execution_count": 1,
     "metadata": {},
     "output_type": "execute_result"
    }
   ],
   "source": [
    "import scipy.io as sp_io\n",
    "from rpy2.robjects.packages import importr\n",
    "from rpy2.robjects import numpy2ri\n",
    "import numpy as np\n",
    "\n",
    "\n",
    "wdir = \"/home/valeria/vfonsecad/kul_phd/programming/phd_valeria_fonseca_diaz_wp1/wp1_study002_sample_selection/data/d0023_milkrobot_nirsensor2017/\"\n",
    "mat_filename = wdir + \"data_raw/Data_Tot.mat\"\n",
    "data_mat = sp_io.loadmat(mat_filename, struct_as_record = False)\n",
    "\n",
    "\n",
    "type(data_mat)\n",
    "data_mat.keys()\n",
    "\n"
   ]
  },
  {
   "cell_type": "code",
   "execution_count": 2,
   "metadata": {},
   "outputs": [],
   "source": [
    "x0 = data_mat[\"Trans_Tot\"]\n",
    "y0 = np.concatenate((data_mat[\"Fat_Tot\"], data_mat[\"Prot_Tot\"], data_mat[\"Lact_Tot\"]), axis = 1)\n",
    "n0 = x0.shape[0]\n",
    "\n",
    "all_samples = np.arange(n0)\n",
    "complete_samples = np.where(np.isnan(y0).sum(axis=1) == 0)[0]\n",
    "\n",
    "x = x0[complete_samples,:]\n",
    "y = y0[complete_samples,:]\n",
    "n = x.shape[0]\n",
    "week = data_mat[\"SET\"][complete_samples]\n",
    "\n",
    "x_w1 = x[(week == 1).flatten(),:]\n",
    "y_w1 = y[(week == 1).flatten(),:]\n",
    "x_w2 = x[(week == 2).flatten(),:]\n",
    "y_w2 = y[(week == 2).flatten(),:]\n",
    "\n",
    "n_w2 = x_w2.shape[0]"
   ]
  },
  {
   "cell_type": "code",
   "execution_count": 3,
   "metadata": {},
   "outputs": [
    {
     "name": "stdout",
     "output_type": "stream",
     "text": [
      "(316, 256)\n",
      "(57, 256)\n"
     ]
    }
   ],
   "source": [
    "\n",
    "\n",
    "h = int(n_w2*0.75)\n",
    "test_size = int(0.3*n_w2)\n",
    "\n",
    "numpy2ri.activate()\n",
    "rospca = importr('rospca')\n",
    "current_kk = 15\n",
    "my_robpca = rospca.robpca(x_w2, k=current_kk, h = h)\n",
    "P = np.array(my_robpca.rx(\"flag.all\")).flatten()\n",
    "numpy2ri.deactivate()\n",
    "\n",
    "all_samples = np.arange(0, n_w2)\n",
    "inliers = np.where(P)[0]\n",
    "\n",
    "test_obs = np.random.choice(inliers, size = test_size, replace = False)\n",
    "\n",
    "\n",
    "xcal = x_w1.copy()\n",
    "ycal = y_w1.copy()\n",
    "\n",
    "xtest = x_w2[test_obs,:]\n",
    "ytest = y_w2[test_obs,:]\n",
    "\n",
    "print(xcal.shape)\n",
    "print(xtest.shape)\n",
    "\n",
    "\n",
    "y_labels = [\"fat\", \"protein\", \"lactose\"]\n",
    "\n",
    "\n",
    "data_prepared = {\"y_labels\":y_labels,\n",
    "                \"xcal\": xcal,\n",
    "                \"ycal\": ycal,\n",
    "                \"xtest\": xtest,\n",
    "                \"ytest\": ytest}\n",
    "\n",
    "\n",
    "sp_io.savemat(wdir + \"data_prepared/d0023_data_prepared_01.mat\", data_prepared)\n"
   ]
  }
 ],
 "metadata": {
  "kernelspec": {
   "display_name": "Python 3",
   "language": "python",
   "name": "python3"
  },
  "language_info": {
   "codemirror_mode": {
    "name": "ipython",
    "version": 3
   },
   "file_extension": ".py",
   "mimetype": "text/x-python",
   "name": "python",
   "nbconvert_exporter": "python",
   "pygments_lexer": "ipython3",
   "version": "3.7.3"
  }
 },
 "nbformat": 4,
 "nbformat_minor": 4
}
