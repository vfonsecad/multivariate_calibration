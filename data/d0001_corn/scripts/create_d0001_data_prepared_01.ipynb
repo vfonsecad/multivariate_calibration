{
 "cells": [
  {
   "cell_type": "code",
   "execution_count": 199,
   "metadata": {},
   "outputs": [
    {
     "name": "stdout",
     "output_type": "stream",
     "text": [
      "(56, 700)\n",
      "(24, 700)\n"
     ]
    }
   ],
   "source": [
    "import scipy.io as sp_io\n",
    "from rpy2.robjects.packages import importr\n",
    "from rpy2.robjects import numpy2ri\n",
    "import numpy as np\n",
    "\n",
    "\n",
    "wdir = \"/home/valeria/vfonsecad/kul_phd/programming/phd_valeria_fonseca_diaz_wp1/wp1_study002_sample_selection/data/d0001_corn/\"\n",
    "mat_filename = wdir + \"data_raw/corn.mat\"\n",
    "data_mat = sp_io.loadmat(mat_filename, struct_as_record = False)\n",
    "\n",
    "\n",
    "type(data_mat)\n",
    "data_mat.keys()\n",
    "\n",
    "\n",
    "y = np.asarray(data_mat[\"propvals\"])[0,0].data\n",
    "x = np.asarray(data_mat[\"m5spec\"])[0,0].data\n",
    "n = x.shape[0]\n",
    "h = int(n*0.75)\n",
    "test_size = int(0.3*n)\n",
    "\n",
    "numpy2ri.activate()\n",
    "rospca = importr('rospca')\n",
    "current_kk = 15\n",
    "my_robpca = rospca.robpca(x, k=current_kk, h = h)\n",
    "P = np.array(my_robpca.rx(\"flag.all\")).flatten()\n",
    "numpy2ri.deactivate()\n",
    "\n",
    "all_samples = np.arange(0, n)\n",
    "inliers = np.where(P)[0]\n",
    "\n",
    "test_obs = np.random.choice(inliers, size = test_size, replace = False)\n",
    "cal_obs = np.array([ii for ii in all_samples if ii not in test_obs])\n",
    "\n",
    "xcal = x[cal_obs,:]\n",
    "ycal = y[cal_obs,:]\n",
    "\n",
    "xtest = x[test_obs,:]\n",
    "ytest = y[test_obs,:]\n",
    "\n",
    "print(xcal.shape)\n",
    "print(xtest.shape)\n",
    "\n",
    "\n",
    "y_labels = [\"moisture\", \"oil\", \"protein\", \"starch\"]\n",
    "\n",
    "\n",
    "data_prepared = {\"y_labels\":y_labels,\n",
    "                \"xcal\": xcal,\n",
    "                \"ycal\": ycal,\n",
    "                \"xtest\": xtest,\n",
    "                \"ytest\": ytest}\n",
    "\n",
    "\n",
    "sp_io.savemat(wdir + \"data_prepared/d0001_data_prepared_01.mat\", data_prepared)\n"
   ]
  }
 ],
 "metadata": {
  "kernelspec": {
   "display_name": "Python 3",
   "language": "python",
   "name": "python3"
  },
  "language_info": {
   "codemirror_mode": {
    "name": "ipython",
    "version": 3
   },
   "file_extension": ".py",
   "mimetype": "text/x-python",
   "name": "python",
   "nbconvert_exporter": "python",
   "pygments_lexer": "ipython3",
   "version": "3.7.3"
  }
 },
 "nbformat": 4,
 "nbformat_minor": 4
}
